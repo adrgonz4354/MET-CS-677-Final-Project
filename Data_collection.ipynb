{
 "cells": [
  {
   "cell_type": "code",
   "execution_count": 37,
   "metadata": {},
   "outputs": [
    {
     "data": {
      "text/html": [
       "<div>\n",
       "<style scoped>\n",
       "    .dataframe tbody tr th:only-of-type {\n",
       "        vertical-align: middle;\n",
       "    }\n",
       "\n",
       "    .dataframe tbody tr th {\n",
       "        vertical-align: top;\n",
       "    }\n",
       "\n",
       "    .dataframe thead th {\n",
       "        text-align: right;\n",
       "    }\n",
       "</style>\n",
       "<table border=\"1\" class=\"dataframe\">\n",
       "  <thead>\n",
       "    <tr style=\"text-align: right;\">\n",
       "      <th></th>\n",
       "      <th>Unnamed: 0</th>\n",
       "      <th>Country/Location</th>\n",
       "      <th>Latitude</th>\n",
       "      <th>Longitude</th>\n",
       "      <th>Depth</th>\n",
       "      <th>Magnitude</th>\n",
       "    </tr>\n",
       "  </thead>\n",
       "  <tbody>\n",
       "    <tr>\n",
       "      <th>0</th>\n",
       "      <td>0</td>\n",
       "      <td>['North Indian Ocean']</td>\n",
       "      <td>-37.420000</td>\n",
       "      <td>-73.669000</td>\n",
       "      <td>24.2</td>\n",
       "      <td>6.1</td>\n",
       "    </tr>\n",
       "    <tr>\n",
       "      <th>1</th>\n",
       "      <td>1</td>\n",
       "      <td>['Indonesia']</td>\n",
       "      <td>18.081000</td>\n",
       "      <td>-102.182000</td>\n",
       "      <td>18.0</td>\n",
       "      <td>5.5</td>\n",
       "    </tr>\n",
       "    <tr>\n",
       "      <th>2</th>\n",
       "      <td>2</td>\n",
       "      <td>['日本 (Japan)']</td>\n",
       "      <td>51.418000</td>\n",
       "      <td>-178.380000</td>\n",
       "      <td>15.0</td>\n",
       "      <td>5.9</td>\n",
       "    </tr>\n",
       "    <tr>\n",
       "      <th>3</th>\n",
       "      <td>3</td>\n",
       "      <td>['Afghanistan']</td>\n",
       "      <td>50.682900</td>\n",
       "      <td>157.066300</td>\n",
       "      <td>38.0</td>\n",
       "      <td>5.5</td>\n",
       "    </tr>\n",
       "    <tr>\n",
       "      <th>4</th>\n",
       "      <td>4</td>\n",
       "      <td>['ایران']</td>\n",
       "      <td>1.719000</td>\n",
       "      <td>30.834000</td>\n",
       "      <td>4.0</td>\n",
       "      <td>6.5</td>\n",
       "    </tr>\n",
       "    <tr>\n",
       "      <th>...</th>\n",
       "      <td>...</td>\n",
       "      <td>...</td>\n",
       "      <td>...</td>\n",
       "      <td>...</td>\n",
       "      <td>...</td>\n",
       "      <td>...</td>\n",
       "    </tr>\n",
       "    <tr>\n",
       "      <th>1421</th>\n",
       "      <td>1421</td>\n",
       "      <td>['North Pacific Ocean']</td>\n",
       "      <td>-31.105500</td>\n",
       "      <td>-71.405000</td>\n",
       "      <td>222.1</td>\n",
       "      <td>5.5</td>\n",
       "    </tr>\n",
       "    <tr>\n",
       "      <th>1422</th>\n",
       "      <td>1422</td>\n",
       "      <td>['日本 (Japan)']</td>\n",
       "      <td>2.202155</td>\n",
       "      <td>160.306791</td>\n",
       "      <td>19.0</td>\n",
       "      <td>5.5</td>\n",
       "    </tr>\n",
       "    <tr>\n",
       "      <th>1423</th>\n",
       "      <td>1423</td>\n",
       "      <td>['North Indian Ocean']</td>\n",
       "      <td>51.596000</td>\n",
       "      <td>-173.961000</td>\n",
       "      <td>16.1</td>\n",
       "      <td>5.7</td>\n",
       "    </tr>\n",
       "    <tr>\n",
       "      <th>1424</th>\n",
       "      <td>1424</td>\n",
       "      <td>['Haiti']</td>\n",
       "      <td>-14.859500</td>\n",
       "      <td>167.302800</td>\n",
       "      <td>35.0</td>\n",
       "      <td>5.8</td>\n",
       "    </tr>\n",
       "    <tr>\n",
       "      <th>1425</th>\n",
       "      <td>1425</td>\n",
       "      <td>['North Indian Ocean']</td>\n",
       "      <td>-31.224400</td>\n",
       "      <td>-71.926000</td>\n",
       "      <td>23.7</td>\n",
       "      <td>5.6</td>\n",
       "    </tr>\n",
       "  </tbody>\n",
       "</table>\n",
       "<p>1426 rows × 6 columns</p>\n",
       "</div>"
      ],
      "text/plain": [
       "      Unnamed: 0         Country/Location   Latitude   Longitude  Depth  \\\n",
       "0              0   ['North Indian Ocean'] -37.420000  -73.669000   24.2   \n",
       "1              1            ['Indonesia']  18.081000 -102.182000   18.0   \n",
       "2              2           ['日本 (Japan)']  51.418000 -178.380000   15.0   \n",
       "3              3          ['Afghanistan']  50.682900  157.066300   38.0   \n",
       "4              4                ['ایران']   1.719000   30.834000    4.0   \n",
       "...          ...                      ...        ...         ...    ...   \n",
       "1421        1421  ['North Pacific Ocean'] -31.105500  -71.405000  222.1   \n",
       "1422        1422           ['日本 (Japan)']   2.202155  160.306791   19.0   \n",
       "1423        1423   ['North Indian Ocean']  51.596000 -173.961000   16.1   \n",
       "1424        1424                ['Haiti'] -14.859500  167.302800   35.0   \n",
       "1425        1425   ['North Indian Ocean'] -31.224400  -71.926000   23.7   \n",
       "\n",
       "      Magnitude  \n",
       "0           6.1  \n",
       "1           5.5  \n",
       "2           5.9  \n",
       "3           5.5  \n",
       "4           6.5  \n",
       "...         ...  \n",
       "1421        5.5  \n",
       "1422        5.5  \n",
       "1423        5.7  \n",
       "1424        5.8  \n",
       "1425        5.6  \n",
       "\n",
       "[1426 rows x 6 columns]"
      ]
     },
     "execution_count": 37,
     "metadata": {},
     "output_type": "execute_result"
    }
   ],
   "source": [
    "import pandas as pd\n",
    "import data_processing as dp\n",
    "import matplotlib.pyplot as plt\n",
    "import sklearn.preprocessing as preprocessing\n",
    "\n",
    "prediction_results = pd.read_csv(\"prediction_results_2011-2016.csv\")\n",
    "prediction_results"
   ]
  },
  {
   "cell_type": "code",
   "execution_count": 40,
   "metadata": {},
   "outputs": [
    {
     "data": {
      "text/plain": [
       "<BarContainer object of 56 artists>"
      ]
     },
     "execution_count": 40,
     "metadata": {},
     "output_type": "execute_result"
    },
    {
     "data": {
      "image/png": "[encoded data removed]",
      "text/plain": [
       "<Figure size 432x288 with 1 Axes>"
      ]
     },
     "metadata": {
      "needs_background": "light"
     },
     "output_type": "display_data"
    }
   ],
   "source": [
    "import sklearn.preprocessing as preprocessing\n",
    "\n",
    "label_encoder = preprocessing.LabelEncoder()\n",
    "\n",
    "countries  = label_encoder.fit_transform(list(medium_earthquakes.keys()))\n",
    "\n",
    "plt.bar(countries, list(medium_earthquakes.values()))"
   ]
  },
  {
   "cell_type": "code",
   "execution_count": 39,
   "metadata": {},
   "outputs": [
    {
     "data": {
      "text/plain": [
       "dict_values([84, 7, 32, 192, 1, 62, 171, 27, 11, 1, 86, 37, 8, 20, 4, 7, 19, 11, 2, 14, 7, 11, 21, 4, 10, 3, 25, 12, 4, 4, 2, 1, 3, 1, 3, 5, 3, 1, 6, 1, 1, 2, 1, 2, 2, 1, 3, 2, 2, 2, 1, 1, 1, 2, 1, 1])"
      ]
     },
     "execution_count": 39,
     "metadata": {},
     "output_type": "execute_result"
    }
   ],
   "source": [
    "medium_earthquakes.values()"
   ]
  },
  {
   "cell_type": "code",
   "execution_count": 52,
   "metadata": {},
   "outputs": [
    {
     "data": {
      "text/plain": [
       "<BarContainer object of 44 artists>"
      ]
     },
     "execution_count": 52,
     "metadata": {},
     "output_type": "execute_result"
    },
    {
     "data": {
      "image/png": "[encoded data removed]",
      "text/plain": [
       "<Figure size 432x288 with 1 Axes>"
      ]
     },
     "metadata": {
      "needs_background": "light"
     },
     "output_type": "display_data"
    }
   ],
   "source": [
    "countries_large = label_encoder.fit_transform(list(large_earthquakes.keys()))\n",
    "plt.bar(countries_large, list(large_earthquakes.values()))\n"
   ]
  },
  {
   "cell_type": "code",
   "execution_count": 42,
   "metadata": {},
   "outputs": [
    {
     "data": {
      "text/plain": [
       "<BarContainer object of 12 artists>"
      ]
     },
     "execution_count": 42,
     "metadata": {},
     "output_type": "execute_result"
    },
    {
     "data": {
      "image/png": "[encoded data removed]",
      "text/plain": [
       "<Figure size 432x288 with 1 Axes>"
      ]
     },
     "metadata": {
      "needs_background": "light"
     },
     "output_type": "display_data"
    }
   ],
   "source": [
    "countries_major = label_encoder.fit_transform(list(major_earthquakes.keys()))\n",
    "\n",
    "plt.bar(countries_major, list(major_earthquakes.values()))"
   ]
  },
  {
   "cell_type": "code",
   "execution_count": 45,
   "metadata": {},
   "outputs": [
    {
     "data": {
      "text/plain": [
       "array([\"['North Indian Ocean']\", \"['Papua New Guinea']\", \"['Chile']\",\n",
       "       \"['South Indian Ocean']\", \"['New Zealand']\", \"['Indonesia']\",\n",
       "       \"['South Pacific Ocean']\", \"['Solomon Islands']\", \"['Kyrgyzstan']\",\n",
       "       \"['日本 (Japan)']\", \"['North Pacific Ocean']\",\n",
       "       \"['Ocean could not be computed']\"], dtype='<U31')"
      ]
     },
     "execution_count": 45,
     "metadata": {},
     "output_type": "execute_result"
    }
   ],
   "source": [
    "label_encoder.inverse_transform(countries_major)"
   ]
  },
  {
   "cell_type": "code",
   "execution_count": 54,
   "metadata": {},
   "outputs": [
    {
     "data": {
      "text/plain": [
       "array([\"['North Indian Ocean']\", \"['日本 (Japan)']\", \"['ایران']\",\n",
       "       \"['Indonesia']\", \"['North Pacific Ocean']\",\n",
       "       \"['South Indian Ocean']\", \"['Chile']\", \"['South Pacific Ocean']\",\n",
       "       \"['Papua New Guinea']\", \"['Ελλάδα']\",\n",
       "       \"['Ocean could not be computed']\", \"['Costa Rica']\", \"['Fiji']\",\n",
       "       \"['Vanuatu']\", \"['India']\", \"['Colombia']\", \"['Malawi']\",\n",
       "       \"['México']\", \"['Afghanistan']\", \"['United States of America']\",\n",
       "       \"['China 中国']\", \"['Peru']\", \"['Philippines']\",\n",
       "       \"['South Georgia and South Sandwich Islands']\", \"['New Zealand']\",\n",
       "       \"['България']\", \"['Mozambique']\", \"['Myanmar']\", \"['El Salvador']\",\n",
       "       \"['Solomon Islands']\", \"['Bolivia']\", \"['Nepal']\", \"['Ecuador']\",\n",
       "       \"['پاکستان']\", \"['Россия']\", '[\"Timor-Leste; Timor Lorosa\\'e\"]',\n",
       "       \"['United States']\", \"['Haiti']\", \"['Tonga']\", \"['Taiwan']\",\n",
       "       \"['Eritrea']\", \"['Argentina']\", \"['臺灣']\", \"['Perú']\"], dtype='<U44')"
      ]
     },
     "execution_count": 54,
     "metadata": {},
     "output_type": "execute_result"
    }
   ],
   "source": [
    "label_encoder.inverse_transform(countries_large)"
   ]
  },
  {
   "cell_type": "code",
   "execution_count": 55,
   "metadata": {},
   "outputs": [
    {
     "data": {
      "text/plain": [
       "array([21, 42, 40, 14, 22, 30,  4, 31, 24, 37, 23,  7, 11, 36, 13,  6, 15,\n",
       "       18,  1, 34,  5, 25, 27, 29, 20, 38, 16, 17,  9, 28,  3, 19,  8, 41,\n",
       "       39,  0, 35, 12, 33, 32, 10,  2, 43, 26], dtype=int32)"
      ]
     },
     "execution_count": 55,
     "metadata": {},
     "output_type": "execute_result"
    }
   ],
   "source": [
    "countries_large"
   ]
  },
  {
   "cell_type": "code",
   "execution_count": null,
   "metadata": {},
   "outputs": [],
   "source": []
  }
 ],
 "metadata": {
  "kernelspec": {
   "display_name": "Python 3",
   "language": "python",
   "name": "python3"
  },
  "language_info": {
   "codemirror_mode": {
    "name": "ipython",
    "version": 3
   },
   "file_extension": ".py",
   "mimetype": "text/x-python",
   "name": "python",
   "nbconvert_exporter": "python",
   "pygments_lexer": "ipython3",
   "version": "3.8.3"
  }
 },
 "nbformat": 4,
 "nbformat_minor": 4
}
